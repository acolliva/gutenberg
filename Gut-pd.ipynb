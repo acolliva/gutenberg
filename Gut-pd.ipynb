{
 "cells": [
  {
   "cell_type": "code",
   "execution_count": 1,
   "metadata": {
    "collapsed": true
   },
   "outputs": [],
   "source": [
    "import glob, string\n",
    "import matplotlib.pyplot as plt\n",
    "from multiprocessing import Pool\n",
    "import re\n",
    "import numpy as np\n",
    "import random\n",
    "import os\n",
    "import sys\n",
    "%matplotlib inline"
   ]
  },
  {
   "cell_type": "code",
   "execution_count": 2,
   "metadata": {
    "collapsed": true
   },
   "outputs": [],
   "source": [
    "original_text = \"This text is a mess!\\nIt contains a lot of punctuation, numb3rs and missspeleds words!\""
   ]
  },
  {
   "cell_type": "code",
   "execution_count": 3,
   "metadata": {
    "collapsed": false
   },
   "outputs": [
    {
     "data": {
      "text/plain": [
       "['This',\n",
       " 'text',\n",
       " 'mess',\n",
       " 'contains',\n",
       " 'lot',\n",
       " 'punctuation',\n",
       " 'and',\n",
       " 'missspeleds',\n",
       " 'words']"
      ]
     },
     "execution_count": 3,
     "metadata": {},
     "output_type": "execute_result"
    }
   ],
   "source": [
    "\n",
    "pattern = r'(?u)\\b[A-Za-z]{3,}\\b'\n",
    "\n",
    "# Telling: \n",
    "#      (?u)     = at most one unicode char\n",
    "#      \\b       = the end of a word is indicated by whitespace or a non-alphanumeric, non-underscore character.\n",
    "#                 matches empty string at beginning or end of word.\n",
    "#      [A-Za-z] = any character from the indicated sets: ascii lower or upper chars;\n",
    "#      {3,}     = at least 3 of the last match, unbounded in length: {m,n} at least m and up to n.\n",
    "\n",
    "re.findall(pattern=pattern, string=original_text) # Neat! (note that `is`, `a`, `of`, etc. are missing!)\n",
    "\n"
   ]
  },
  {
   "cell_type": "code",
   "execution_count": 4,
   "metadata": {
    "collapsed": true
   },
   "outputs": [],
   "source": [
    "def count_words(subdf):\n",
    "    word_lists = subdf.body.str.lower().map(lambda x: re.findall(pattern, x))\n",
    "    df = pd.concat(pd.DataFrame({'word': word_list}) for word_list in word_lists)\n",
    "    return df.groupby('word').size()"
   ]
  },
  {
   "cell_type": "code",
   "execution_count": 5,
   "metadata": {
    "collapsed": true
   },
   "outputs": [],
   "source": [
    "import pandas as pd"
   ]
  },
  {
   "cell_type": "code",
   "execution_count": 6,
   "metadata": {
    "collapsed": true
   },
   "outputs": [],
   "source": [
    "dirname = \"/home/alberto/Dropbox/codice vario/beaker/txt\"\n",
    "def get_files_by_file_size(dirname, reverse=False):\n",
    "    \"\"\" Return list of file paths in directory sorted by file size \"\"\"\n",
    "\n",
    "    # Get list of files\n",
    "    filepaths = []\n",
    "    for path, subdirs, files in os.walk(dirname):\n",
    "        for name in files:\n",
    "            filepaths.append(os.path.join(path, name))\n",
    "\n",
    "    # Re-populate list with filename, size tuples\n",
    "    for i in xrange(len(filepaths)):\n",
    "        filepaths[i] = (filepaths[i], os.path.getsize(filepaths[i]))\n",
    "\n",
    "    # Sort list by file size\n",
    "    # If reverse=True sort from largest to smallest\n",
    "    # If reverse=False sort from smallest to largest\n",
    "    #filepaths.sort(key=lambda filename: filename[1], reverse=True)\n",
    "\n",
    "    # Re-populate list with just filenames\n",
    "    for i in xrange(len(filepaths)):\n",
    "        filepaths[i] = filepaths[i][0]\n",
    "\n",
    "    return filepaths"
   ]
  },
  {
   "cell_type": "code",
   "execution_count": 7,
   "metadata": {
    "collapsed": false
   },
   "outputs": [],
   "source": [
    "files=get_files_by_file_size(dirname, reverse=False)\n",
    "#print files\n",
    "def batch_gen(data, batch_size):\n",
    "    for i in range(0, len(data), batch_size):\n",
    "            yield data[i:i+batch_size]"
   ]
  },
  {
   "cell_type": "code",
   "execution_count": 8,
   "metadata": {
    "collapsed": true
   },
   "outputs": [],
   "source": [
    "def loadAnalyzedText(textLocation,aut,tit):\n",
    "    #wordString = ()\n",
    "    #articles=[]\n",
    "    #titles=[]\n",
    "    #categories=[]\n",
    "    \n",
    "    df = pd.DataFrame(columns=['title','author','text'])\n",
    "    with open(textLocation, 'r') as f:\n",
    "        line=f.read().lower()\n",
    "        text=re.findall(pattern=pattern, string=line)\n",
    "        \n",
    "    df.loc[len(df)]=[tit,aut,text]\n",
    "    df.dropna(inplace=True)\n",
    "    df.reset_index(inplace=True)\n",
    "    df.drop(['index'],axis=1,inplace=True)\n",
    "    return df"
   ]
  },
  {
   "cell_type": "code",
   "execution_count": 9,
   "metadata": {
    "collapsed": true
   },
   "outputs": [],
   "source": [
    "df = pd.DataFrame(columns=['title','author','text'])"
   ]
  },
  {
   "cell_type": "code",
   "execution_count": 10,
   "metadata": {
    "collapsed": false
   },
   "outputs": [
    {
     "data": {
      "text/plain": [
       "3036"
      ]
     },
     "execution_count": 10,
     "metadata": {},
     "output_type": "execute_result"
    }
   ],
   "source": [
    "len(files)"
   ]
  },
  {
   "cell_type": "code",
   "execution_count": 11,
   "metadata": {
    "collapsed": false
   },
   "outputs": [
    {
     "data": {
      "text/plain": [
       "'/home/alberto/Dropbox/codice vario/beaker/txt/Thomas Carlyle___On the Choice of Books.txt'"
      ]
     },
     "execution_count": 11,
     "metadata": {},
     "output_type": "execute_result"
    }
   ],
   "source": [
    "files[0]"
   ]
  },
  {
   "cell_type": "code",
   "execution_count": 12,
   "metadata": {
    "collapsed": true
   },
   "outputs": [],
   "source": [
    "import time"
   ]
  },
  {
   "cell_type": "code",
   "execution_count": 13,
   "metadata": {
    "collapsed": false
   },
   "outputs": [
    {
     "name": "stdout",
     "output_type": "stream",
     "text": [
      "File number 3030 of 3036 after 118.247571 seconds"
     ]
    }
   ],
   "source": [
    "t_in=time.time()\n",
    "pattern2=r'\\b/.*_\\b'\n",
    "i=0\n",
    "for pages in files[:]:\n",
    "    #print pages\n",
    "    aut,tit=re.search(r'txt/(.*?).txt', pages).group(1).split('___')\n",
    "    tmpdf=loadAnalyzedText(pages,aut.lower(),tit.lower())\n",
    "    df=pd.concat([df,tmpdf])\n",
    "    if i %10 ==0: \n",
    "        sys.stdout.write(\"\\rFile number %i of %i after %f seconds\" % (i,len(files),time.time()-t_in))\n",
    "        sys.stdout.flush()\n",
    "    i+=1"
   ]
  },
  {
   "cell_type": "code",
   "execution_count": 14,
   "metadata": {
    "collapsed": true
   },
   "outputs": [],
   "source": [
    "df.to_csv('gut.csv',index=False)"
   ]
  },
  {
   "cell_type": "code",
   "execution_count": 15,
   "metadata": {
    "collapsed": false,
    "scrolled": true
   },
   "outputs": [
    {
     "data": {
      "text/html": [
       "<div>\n",
       "<style>\n",
       "    .dataframe thead tr:only-child th {\n",
       "        text-align: right;\n",
       "    }\n",
       "\n",
       "    .dataframe thead th {\n",
       "        text-align: left;\n",
       "    }\n",
       "\n",
       "    .dataframe tbody tr th {\n",
       "        vertical-align: top;\n",
       "    }\n",
       "</style>\n",
       "<table border=\"1\" class=\"dataframe\">\n",
       "  <thead>\n",
       "    <tr style=\"text-align: right;\">\n",
       "      <th></th>\n",
       "      <th>title</th>\n",
       "      <th>author</th>\n",
       "      <th>text</th>\n",
       "    </tr>\n",
       "  </thead>\n",
       "  <tbody>\n",
       "    <tr>\n",
       "      <th>0</th>\n",
       "      <td>on the choice of books</td>\n",
       "      <td>thomas carlyle</td>\n",
       "      <td>[the, choice, books, thomas, carlyle, life, th...</td>\n",
       "    </tr>\n",
       "    <tr>\n",
       "      <th>0</th>\n",
       "      <td>gulliver's travels</td>\n",
       "      <td>jonathan swift</td>\n",
       "      <td>[travels, into, several, remote, nations, the,...</td>\n",
       "    </tr>\n",
       "    <tr>\n",
       "      <th>0</th>\n",
       "      <td>anglo-saxon britain</td>\n",
       "      <td>grant allen</td>\n",
       "      <td>[illustration, britain, early, britain, anglo,...</td>\n",
       "    </tr>\n",
       "    <tr>\n",
       "      <th>0</th>\n",
       "      <td>the great secret</td>\n",
       "      <td>edward phillips oppenheim</td>\n",
       "      <td>[the, great, secret, phillips, oppenheim, cont...</td>\n",
       "    </tr>\n",
       "    <tr>\n",
       "      <th>0</th>\n",
       "      <td>annie kilburn</td>\n",
       "      <td>william dean howells</td>\n",
       "      <td>[annie, kilburn, novel, howells, author, india...</td>\n",
       "    </tr>\n",
       "  </tbody>\n",
       "</table>\n",
       "</div>"
      ],
      "text/plain": [
       "                    title                     author  \\\n",
       "0  on the choice of books             thomas carlyle   \n",
       "0      gulliver's travels             jonathan swift   \n",
       "0     anglo-saxon britain                grant allen   \n",
       "0        the great secret  edward phillips oppenheim   \n",
       "0           annie kilburn       william dean howells   \n",
       "\n",
       "                                                text  \n",
       "0  [the, choice, books, thomas, carlyle, life, th...  \n",
       "0  [travels, into, several, remote, nations, the,...  \n",
       "0  [illustration, britain, early, britain, anglo,...  \n",
       "0  [the, great, secret, phillips, oppenheim, cont...  \n",
       "0  [annie, kilburn, novel, howells, author, india...  "
      ]
     },
     "execution_count": 15,
     "metadata": {},
     "output_type": "execute_result"
    }
   ],
   "source": [
    "df.head()"
   ]
  },
  {
   "cell_type": "code",
   "execution_count": 16,
   "metadata": {
    "collapsed": false
   },
   "outputs": [],
   "source": [
    "authors=df.groupby('author').agg({'title':'count'})"
   ]
  },
  {
   "cell_type": "code",
   "execution_count": 17,
   "metadata": {
    "collapsed": false
   },
   "outputs": [
    {
     "data": {
      "text/html": [
       "<div>\n",
       "<style>\n",
       "    .dataframe thead tr:only-child th {\n",
       "        text-align: right;\n",
       "    }\n",
       "\n",
       "    .dataframe thead th {\n",
       "        text-align: left;\n",
       "    }\n",
       "\n",
       "    .dataframe tbody tr th {\n",
       "        vertical-align: top;\n",
       "    }\n",
       "</style>\n",
       "<table border=\"1\" class=\"dataframe\">\n",
       "  <thead>\n",
       "    <tr style=\"text-align: right;\">\n",
       "      <th></th>\n",
       "      <th>title</th>\n",
       "    </tr>\n",
       "    <tr>\n",
       "      <th>author</th>\n",
       "      <th></th>\n",
       "    </tr>\n",
       "  </thead>\n",
       "  <tbody>\n",
       "    <tr>\n",
       "      <th>abraham lincoln</th>\n",
       "      <td>16</td>\n",
       "    </tr>\n",
       "    <tr>\n",
       "      <th>agatha christie</th>\n",
       "      <td>2</td>\n",
       "    </tr>\n",
       "    <tr>\n",
       "      <th>albert einstein</th>\n",
       "      <td>2</td>\n",
       "    </tr>\n",
       "    <tr>\n",
       "      <th>aldous huxley</th>\n",
       "      <td>3</td>\n",
       "    </tr>\n",
       "    <tr>\n",
       "      <th>alexander pope</th>\n",
       "      <td>6</td>\n",
       "    </tr>\n",
       "  </tbody>\n",
       "</table>\n",
       "</div>"
      ],
      "text/plain": [
       "                 title\n",
       "author                \n",
       "abraham lincoln     16\n",
       "agatha christie      2\n",
       "albert einstein      2\n",
       "aldous huxley        3\n",
       "alexander pope       6"
      ]
     },
     "execution_count": 17,
     "metadata": {},
     "output_type": "execute_result"
    }
   ],
   "source": [
    "authors.head()"
   ]
  },
  {
   "cell_type": "code",
   "execution_count": 55,
   "metadata": {
    "collapsed": false,
    "scrolled": true
   },
   "outputs": [],
   "source": [
    "top_auth=authors.sort_values(by='title',ascending=False).reset_index()[:5]['author']"
   ]
  },
  {
   "cell_type": "code",
   "execution_count": 56,
   "metadata": {
    "collapsed": false
   },
   "outputs": [],
   "source": [
    "top_auth=list(top_auth)"
   ]
  },
  {
   "cell_type": "markdown",
   "metadata": {},
   "source": [
    "## Authors selection\n",
    " top representing authors\n"
   ]
  },
  {
   "cell_type": "code",
   "execution_count": 57,
   "metadata": {
    "collapsed": true
   },
   "outputs": [],
   "source": [
    "df_sub_auth=df[df['author'].isin(top_auth)]"
   ]
  },
  {
   "cell_type": "code",
   "execution_count": 58,
   "metadata": {
    "collapsed": false,
    "scrolled": true
   },
   "outputs": [
    {
     "data": {
      "text/html": [
       "<div>\n",
       "<style>\n",
       "    .dataframe thead tr:only-child th {\n",
       "        text-align: right;\n",
       "    }\n",
       "\n",
       "    .dataframe thead th {\n",
       "        text-align: left;\n",
       "    }\n",
       "\n",
       "    .dataframe tbody tr th {\n",
       "        vertical-align: top;\n",
       "    }\n",
       "</style>\n",
       "<table border=\"1\" class=\"dataframe\">\n",
       "  <thead>\n",
       "    <tr style=\"text-align: right;\">\n",
       "      <th></th>\n",
       "      <th>index</th>\n",
       "      <th>title</th>\n",
       "      <th>author</th>\n",
       "      <th>text</th>\n",
       "    </tr>\n",
       "  </thead>\n",
       "  <tbody>\n",
       "    <tr>\n",
       "      <th>4</th>\n",
       "      <td>0</td>\n",
       "      <td>annie kilburn</td>\n",
       "      <td>william dean howells</td>\n",
       "      <td>[annie, kilburn, novel, howells, author, india...</td>\n",
       "    </tr>\n",
       "    <tr>\n",
       "      <th>6</th>\n",
       "      <td>0</td>\n",
       "      <td>sketches and studies</td>\n",
       "      <td>nathaniel hawthorne</td>\n",
       "      <td>[sketches, and, studies, nathaniel, hawthorne,...</td>\n",
       "    </tr>\n",
       "    <tr>\n",
       "      <th>20</th>\n",
       "      <td>0</td>\n",
       "      <td>henry james, jr</td>\n",
       "      <td>william dean howells</td>\n",
       "      <td>[henry, james, william, dean, howells, the, ev...</td>\n",
       "    </tr>\n",
       "    <tr>\n",
       "      <th>26</th>\n",
       "      <td>0</td>\n",
       "      <td>an old woman's tale</td>\n",
       "      <td>nathaniel hawthorne</td>\n",
       "      <td>[the, doliver, romance, and, other, pieces, ta...</td>\n",
       "    </tr>\n",
       "    <tr>\n",
       "      <th>31</th>\n",
       "      <td>0</td>\n",
       "      <td>the skipper’s wooing, and the brown man’s servant</td>\n",
       "      <td>william wymark jacobs</td>\n",
       "      <td>[the, wooing, and, the, brown, servant, jacobs...</td>\n",
       "    </tr>\n",
       "    <tr>\n",
       "      <th>38</th>\n",
       "      <td>0</td>\n",
       "      <td>a search for a secret, a novel, volume 3</td>\n",
       "      <td>george alfred henty</td>\n",
       "      <td>[search, for, secret, novel, henty, three, vol...</td>\n",
       "    </tr>\n",
       "    <tr>\n",
       "      <th>44</th>\n",
       "      <td>0</td>\n",
       "      <td>wrecked but not ruined</td>\n",
       "      <td>r m ballantyne</td>\n",
       "      <td>[wrecked, but, not, ruined, ballantyne, set, t...</td>\n",
       "    </tr>\n",
       "    <tr>\n",
       "      <th>47</th>\n",
       "      <td>0</td>\n",
       "      <td>ragged lady</td>\n",
       "      <td>william dean howells</td>\n",
       "      <td>[ragged, lady, william, dean, howells, part, w...</td>\n",
       "    </tr>\n",
       "    <tr>\n",
       "      <th>50</th>\n",
       "      <td>0</td>\n",
       "      <td>one of the 28th</td>\n",
       "      <td>george alfred henty</td>\n",
       "      <td>[one, the, tale, waterloo, henty, author, prin...</td>\n",
       "    </tr>\n",
       "    <tr>\n",
       "      <th>54</th>\n",
       "      <td>0</td>\n",
       "      <td>sketches from memory</td>\n",
       "      <td>nathaniel hawthorne</td>\n",
       "      <td>[the, doliver, romance, and, other, pieces, ta...</td>\n",
       "    </tr>\n",
       "    <tr>\n",
       "      <th>58</th>\n",
       "      <td>0</td>\n",
       "      <td>fort desolation</td>\n",
       "      <td>r m ballantyne</td>\n",
       "      <td>[fort, desolation, ballantyne, chapter, one, s...</td>\n",
       "    </tr>\n",
       "    <tr>\n",
       "      <th>68</th>\n",
       "      <td>0</td>\n",
       "      <td>orange and green</td>\n",
       "      <td>george alfred henty</td>\n",
       "      <td>[orange, and, green, tale, the, boyne, and, li...</td>\n",
       "    </tr>\n",
       "    <tr>\n",
       "      <th>70</th>\n",
       "      <td>0</td>\n",
       "      <td>red rooney</td>\n",
       "      <td>r m ballantyne</td>\n",
       "      <td>[red, rooney, ballantyne, tale, eskimo, innuit...</td>\n",
       "    </tr>\n",
       "    <tr>\n",
       "      <th>84</th>\n",
       "      <td>0</td>\n",
       "      <td>charlie to the rescue</td>\n",
       "      <td>r m ballantyne</td>\n",
       "      <td>[charlie, the, rescue, ballantyne, chapter, on...</td>\n",
       "    </tr>\n",
       "    <tr>\n",
       "      <th>91</th>\n",
       "      <td>0</td>\n",
       "      <td>the golden canyon</td>\n",
       "      <td>george alfred henty</td>\n",
       "      <td>[the, golden, canyon, henty, new, york, hurst,...</td>\n",
       "    </tr>\n",
       "    <tr>\n",
       "      <th>94</th>\n",
       "      <td>0</td>\n",
       "      <td>the head of the family, sailor's knots, part 9</td>\n",
       "      <td>william wymark jacobs</td>\n",
       "      <td>[sailors, knots, jacobs, the, head, the, famil...</td>\n",
       "    </tr>\n",
       "    <tr>\n",
       "      <th>95</th>\n",
       "      <td>0</td>\n",
       "      <td>a foregone conclusion</td>\n",
       "      <td>william dean howells</td>\n",
       "      <td>[foregone, conclusion, howells, edition, foreg...</td>\n",
       "    </tr>\n",
       "    <tr>\n",
       "      <th>100</th>\n",
       "      <td>0</td>\n",
       "      <td>a chapter of adventures</td>\n",
       "      <td>george alfred henty</td>\n",
       "      <td>[illustration, waiting, for, help, chapter, ad...</td>\n",
       "    </tr>\n",
       "    <tr>\n",
       "      <th>103</th>\n",
       "      <td>0</td>\n",
       "      <td>dialstone lane</td>\n",
       "      <td>william wymark jacobs</td>\n",
       "      <td>[dialstone, lane, jacobs, contents, illustrati...</td>\n",
       "    </tr>\n",
       "    <tr>\n",
       "      <th>127</th>\n",
       "      <td>0</td>\n",
       "      <td>short stories and essays</td>\n",
       "      <td>william dean howells</td>\n",
       "      <td>[literature, and, life, short, stories, and, e...</td>\n",
       "    </tr>\n",
       "    <tr>\n",
       "      <th>136</th>\n",
       "      <td>0</td>\n",
       "      <td>the man of letters as a man of business</td>\n",
       "      <td>william dean howells</td>\n",
       "      <td>[literature, and, life, the, man, letters, man...</td>\n",
       "    </tr>\n",
       "    <tr>\n",
       "      <th>140</th>\n",
       "      <td>0</td>\n",
       "      <td>the old apple dealer (from _mosses from an old...</td>\n",
       "      <td>nathaniel hawthorne</td>\n",
       "      <td>[mosses, from, old, manse, nathaniel, hawthorn...</td>\n",
       "    </tr>\n",
       "    <tr>\n",
       "      <th>160</th>\n",
       "      <td>0</td>\n",
       "      <td>over the side, captains all, book 6</td>\n",
       "      <td>william wymark jacobs</td>\n",
       "      <td>[captains, all, jacobs, over, the, side, illus...</td>\n",
       "    </tr>\n",
       "    <tr>\n",
       "      <th>170</th>\n",
       "      <td>0</td>\n",
       "      <td>true stories from history and biography</td>\n",
       "      <td>nathaniel hawthorne</td>\n",
       "      <td>[true, stories, from, history, and, biography,...</td>\n",
       "    </tr>\n",
       "    <tr>\n",
       "      <th>177</th>\n",
       "      <td>0</td>\n",
       "      <td>a girl of the commune</td>\n",
       "      <td>george alfred henty</td>\n",
       "      <td>[girl, the, commune, henty, author, freedom, c...</td>\n",
       "    </tr>\n",
       "    <tr>\n",
       "      <th>179</th>\n",
       "      <td>0</td>\n",
       "      <td>dorothy's double, volume 3</td>\n",
       "      <td>george alfred henty</td>\n",
       "      <td>[dorothy, double, henty, author, rujub, the, j...</td>\n",
       "    </tr>\n",
       "    <tr>\n",
       "      <th>186</th>\n",
       "      <td>0</td>\n",
       "      <td>april hopes</td>\n",
       "      <td>william dean howells</td>\n",
       "      <td>[april, hopes, william, dean, howells, from, h...</td>\n",
       "    </tr>\n",
       "    <tr>\n",
       "      <th>190</th>\n",
       "      <td>0</td>\n",
       "      <td>my doggie and i</td>\n",
       "      <td>r m ballantyne</td>\n",
       "      <td>[doggie, and, ballantyne, chapter, one, explai...</td>\n",
       "    </tr>\n",
       "    <tr>\n",
       "      <th>197</th>\n",
       "      <td>0</td>\n",
       "      <td>cupboard love, the lady of the barge and other...</td>\n",
       "      <td>william wymark jacobs</td>\n",
       "      <td>[the, lady, the, barge, and, other, stories, j...</td>\n",
       "    </tr>\n",
       "    <tr>\n",
       "      <th>207</th>\n",
       "      <td>0</td>\n",
       "      <td>the battery and the boiler</td>\n",
       "      <td>r m ballantyne</td>\n",
       "      <td>[the, battery, and, the, boiler, ballantyne, c...</td>\n",
       "    </tr>\n",
       "    <tr>\n",
       "      <th>...</th>\n",
       "      <td>...</td>\n",
       "      <td>...</td>\n",
       "      <td>...</td>\n",
       "      <td>...</td>\n",
       "    </tr>\n",
       "    <tr>\n",
       "      <th>2873</th>\n",
       "      <td>0</td>\n",
       "      <td>captain bayley's heir</td>\n",
       "      <td>george alfred henty</td>\n",
       "      <td>[captain, bayley, heir, tale, the, gold, field...</td>\n",
       "    </tr>\n",
       "    <tr>\n",
       "      <th>2875</th>\n",
       "      <td>0</td>\n",
       "      <td>cambridge neighbors</td>\n",
       "      <td>william dean howells</td>\n",
       "      <td>[literary, friends, and, acquaintances, cambri...</td>\n",
       "    </tr>\n",
       "    <tr>\n",
       "      <th>2879</th>\n",
       "      <td>0</td>\n",
       "      <td>the bequest, ship's company, part 6</td>\n",
       "      <td>william wymark jacobs</td>\n",
       "      <td>[ship, company, jacobs, the, bequest, robert, ...</td>\n",
       "    </tr>\n",
       "    <tr>\n",
       "      <th>2882</th>\n",
       "      <td>0</td>\n",
       "      <td>little daffydowndilly</td>\n",
       "      <td>nathaniel hawthorne</td>\n",
       "      <td>[the, snow, image, and, other, twice, told, ta...</td>\n",
       "    </tr>\n",
       "    <tr>\n",
       "      <th>2885</th>\n",
       "      <td>0</td>\n",
       "      <td>the temptation of samuel burge, captains all, ...</td>\n",
       "      <td>william wymark jacobs</td>\n",
       "      <td>[captains, all, jacobs, the, temptation, samue...</td>\n",
       "    </tr>\n",
       "    <tr>\n",
       "      <th>2889</th>\n",
       "      <td>0</td>\n",
       "      <td>the wild man of the west</td>\n",
       "      <td>r m ballantyne</td>\n",
       "      <td>[the, wild, man, the, west, ballantyne, the, a...</td>\n",
       "    </tr>\n",
       "    <tr>\n",
       "      <th>2892</th>\n",
       "      <td>0</td>\n",
       "      <td>doctor grimshawe's secret</td>\n",
       "      <td>nathaniel hawthorne</td>\n",
       "      <td>[doctor, grimshawe, secret, romance, nathaniel...</td>\n",
       "    </tr>\n",
       "    <tr>\n",
       "      <th>2900</th>\n",
       "      <td>0</td>\n",
       "      <td>bedridden and the winter offensive, deep water...</td>\n",
       "      <td>william wymark jacobs</td>\n",
       "      <td>[deep, waters, jacobs, contents, bedridden, th...</td>\n",
       "    </tr>\n",
       "    <tr>\n",
       "      <th>2901</th>\n",
       "      <td>0</td>\n",
       "      <td>digging for gold</td>\n",
       "      <td>r m ballantyne</td>\n",
       "      <td>[digging, for, gold, ballantyne, chapter, one,...</td>\n",
       "    </tr>\n",
       "    <tr>\n",
       "      <th>2905</th>\n",
       "      <td>0</td>\n",
       "      <td>the guardian angel, ship's company, part 7</td>\n",
       "      <td>william wymark jacobs</td>\n",
       "      <td>[ship, company, jacobs, the, guardian, angel, ...</td>\n",
       "    </tr>\n",
       "    <tr>\n",
       "      <th>2913</th>\n",
       "      <td>0</td>\n",
       "      <td>peter's pence, sailor's knots, part 8</td>\n",
       "      <td>william wymark jacobs</td>\n",
       "      <td>[sailors, knots, jacobs, peter, pence, sailorm...</td>\n",
       "    </tr>\n",
       "    <tr>\n",
       "      <th>2919</th>\n",
       "      <td>0</td>\n",
       "      <td>through three campaigns</td>\n",
       "      <td>george alfred henty</td>\n",
       "      <td>[through, three, campaigns, story, chitral, ti...</td>\n",
       "    </tr>\n",
       "    <tr>\n",
       "      <th>2922</th>\n",
       "      <td>0</td>\n",
       "      <td>their wedding journey</td>\n",
       "      <td>william dean howells</td>\n",
       "      <td>[their, wedding, journey, william, dean, howel...</td>\n",
       "    </tr>\n",
       "    <tr>\n",
       "      <th>2929</th>\n",
       "      <td>0</td>\n",
       "      <td>the confessions of a summer colonist</td>\n",
       "      <td>william dean howells</td>\n",
       "      <td>[literature, and, life, the, confessions, summ...</td>\n",
       "    </tr>\n",
       "    <tr>\n",
       "      <th>2931</th>\n",
       "      <td>0</td>\n",
       "      <td>the kentons</td>\n",
       "      <td>william dean howells</td>\n",
       "      <td>[the, kentons, william, dean, howells, the, ke...</td>\n",
       "    </tr>\n",
       "    <tr>\n",
       "      <th>2932</th>\n",
       "      <td>0</td>\n",
       "      <td>the daughter of the storage</td>\n",
       "      <td>william dean howells</td>\n",
       "      <td>[the, daughter, the, storage, william, dean, h...</td>\n",
       "    </tr>\n",
       "    <tr>\n",
       "      <th>2936</th>\n",
       "      <td>0</td>\n",
       "      <td>philosopher jack</td>\n",
       "      <td>r m ballantyne</td>\n",
       "      <td>[philosopher, jack, ballantyne, chapter, one, ...</td>\n",
       "    </tr>\n",
       "    <tr>\n",
       "      <th>2939</th>\n",
       "      <td>0</td>\n",
       "      <td>the march family trilogy</td>\n",
       "      <td>william dean howells</td>\n",
       "      <td>[the, entire, march, family, trilogy, william,...</td>\n",
       "    </tr>\n",
       "    <tr>\n",
       "      <th>2945</th>\n",
       "      <td>0</td>\n",
       "      <td>the norsemen in the west</td>\n",
       "      <td>r m ballantyne</td>\n",
       "      <td>[the, norsemen, the, west, ballantyne, chapter...</td>\n",
       "    </tr>\n",
       "    <tr>\n",
       "      <th>2950</th>\n",
       "      <td>0</td>\n",
       "      <td>sea urchins</td>\n",
       "      <td>william wymark jacobs</td>\n",
       "      <td>[sea, urchins, jacobs, contents, smoked, skipp...</td>\n",
       "    </tr>\n",
       "    <tr>\n",
       "      <th>2962</th>\n",
       "      <td>0</td>\n",
       "      <td>the weaker vessel, night watches, part 4</td>\n",
       "      <td>william wymark jacobs</td>\n",
       "      <td>[night, watches, jacobs, the, weaker, vessel, ...</td>\n",
       "    </tr>\n",
       "    <tr>\n",
       "      <th>2966</th>\n",
       "      <td>0</td>\n",
       "      <td>the vigil, night watches, part 8</td>\n",
       "      <td>william wymark jacobs</td>\n",
       "      <td>[night, watches, jacobs, the, vigil, the, happ...</td>\n",
       "    </tr>\n",
       "    <tr>\n",
       "      <th>2971</th>\n",
       "      <td>0</td>\n",
       "      <td>held fast for england</td>\n",
       "      <td>george alfred henty</td>\n",
       "      <td>[held, fast, for, england, tale, the, siege, g...</td>\n",
       "    </tr>\n",
       "    <tr>\n",
       "      <th>2983</th>\n",
       "      <td>0</td>\n",
       "      <td>at aboukir and acre</td>\n",
       "      <td>george alfred henty</td>\n",
       "      <td>[illustration, well, lad, who, are, you, abouk...</td>\n",
       "    </tr>\n",
       "    <tr>\n",
       "      <th>2986</th>\n",
       "      <td>0</td>\n",
       "      <td>the prairie chief</td>\n",
       "      <td>r m ballantyne</td>\n",
       "      <td>[the, prairie, chief, ballantyne, chapter, one...</td>\n",
       "    </tr>\n",
       "    <tr>\n",
       "      <th>3012</th>\n",
       "      <td>0</td>\n",
       "      <td>some anomalies of the short story</td>\n",
       "      <td>william dean howells</td>\n",
       "      <td>[literature, and, life, some, anomalies, the, ...</td>\n",
       "    </tr>\n",
       "    <tr>\n",
       "      <th>3021</th>\n",
       "      <td>0</td>\n",
       "      <td>with lee in virginia</td>\n",
       "      <td>george alfred henty</td>\n",
       "      <td>[with, lee, virginia, story, the, american, ci...</td>\n",
       "    </tr>\n",
       "    <tr>\n",
       "      <th>3023</th>\n",
       "      <td>0</td>\n",
       "      <td>the well, the lady of the barge and others, pa...</td>\n",
       "      <td>william wymark jacobs</td>\n",
       "      <td>[the, lady, the, barge, and, other, stories, j...</td>\n",
       "    </tr>\n",
       "    <tr>\n",
       "      <th>3024</th>\n",
       "      <td>0</td>\n",
       "      <td>on the irrawaddy</td>\n",
       "      <td>george alfred henty</td>\n",
       "      <td>[the, irrawaddy, story, the, first, burmese, w...</td>\n",
       "    </tr>\n",
       "    <tr>\n",
       "      <th>3027</th>\n",
       "      <td>0</td>\n",
       "      <td>the young trawler</td>\n",
       "      <td>r m ballantyne</td>\n",
       "      <td>[the, young, trawler, ballantyne, chapter, one...</td>\n",
       "    </tr>\n",
       "  </tbody>\n",
       "</table>\n",
       "<p>444 rows × 4 columns</p>\n",
       "</div>"
      ],
      "text/plain": [
       "      index                                              title  \\\n",
       "4         0                                      annie kilburn   \n",
       "6         0                               sketches and studies   \n",
       "20        0                                    henry james, jr   \n",
       "26        0                                an old woman's tale   \n",
       "31        0  the skipper’s wooing, and the brown man’s servant   \n",
       "38        0           a search for a secret, a novel, volume 3   \n",
       "44        0                             wrecked but not ruined   \n",
       "47        0                                        ragged lady   \n",
       "50        0                                    one of the 28th   \n",
       "54        0                               sketches from memory   \n",
       "58        0                                    fort desolation   \n",
       "68        0                                   orange and green   \n",
       "70        0                                         red rooney   \n",
       "84        0                              charlie to the rescue   \n",
       "91        0                                  the golden canyon   \n",
       "94        0     the head of the family, sailor's knots, part 9   \n",
       "95        0                              a foregone conclusion   \n",
       "100       0                            a chapter of adventures   \n",
       "103       0                                     dialstone lane   \n",
       "127       0                           short stories and essays   \n",
       "136       0            the man of letters as a man of business   \n",
       "140       0  the old apple dealer (from _mosses from an old...   \n",
       "160       0                over the side, captains all, book 6   \n",
       "170       0            true stories from history and biography   \n",
       "177       0                              a girl of the commune   \n",
       "179       0                         dorothy's double, volume 3   \n",
       "186       0                                        april hopes   \n",
       "190       0                                    my doggie and i   \n",
       "197       0  cupboard love, the lady of the barge and other...   \n",
       "207       0                         the battery and the boiler   \n",
       "...     ...                                                ...   \n",
       "2873      0                              captain bayley's heir   \n",
       "2875      0                                cambridge neighbors   \n",
       "2879      0                the bequest, ship's company, part 6   \n",
       "2882      0                              little daffydowndilly   \n",
       "2885      0  the temptation of samuel burge, captains all, ...   \n",
       "2889      0                           the wild man of the west   \n",
       "2892      0                          doctor grimshawe's secret   \n",
       "2900      0  bedridden and the winter offensive, deep water...   \n",
       "2901      0                                   digging for gold   \n",
       "2905      0         the guardian angel, ship's company, part 7   \n",
       "2913      0              peter's pence, sailor's knots, part 8   \n",
       "2919      0                            through three campaigns   \n",
       "2922      0                              their wedding journey   \n",
       "2929      0               the confessions of a summer colonist   \n",
       "2931      0                                        the kentons   \n",
       "2932      0                        the daughter of the storage   \n",
       "2936      0                                   philosopher jack   \n",
       "2939      0                           the march family trilogy   \n",
       "2945      0                           the norsemen in the west   \n",
       "2950      0                                        sea urchins   \n",
       "2962      0           the weaker vessel, night watches, part 4   \n",
       "2966      0                   the vigil, night watches, part 8   \n",
       "2971      0                              held fast for england   \n",
       "2983      0                                at aboukir and acre   \n",
       "2986      0                                  the prairie chief   \n",
       "3012      0                  some anomalies of the short story   \n",
       "3021      0                               with lee in virginia   \n",
       "3023      0  the well, the lady of the barge and others, pa...   \n",
       "3024      0                                   on the irrawaddy   \n",
       "3027      0                                  the young trawler   \n",
       "\n",
       "                     author                                               text  \n",
       "4      william dean howells  [annie, kilburn, novel, howells, author, india...  \n",
       "6       nathaniel hawthorne  [sketches, and, studies, nathaniel, hawthorne,...  \n",
       "20     william dean howells  [henry, james, william, dean, howells, the, ev...  \n",
       "26      nathaniel hawthorne  [the, doliver, romance, and, other, pieces, ta...  \n",
       "31    william wymark jacobs  [the, wooing, and, the, brown, servant, jacobs...  \n",
       "38      george alfred henty  [search, for, secret, novel, henty, three, vol...  \n",
       "44           r m ballantyne  [wrecked, but, not, ruined, ballantyne, set, t...  \n",
       "47     william dean howells  [ragged, lady, william, dean, howells, part, w...  \n",
       "50      george alfred henty  [one, the, tale, waterloo, henty, author, prin...  \n",
       "54      nathaniel hawthorne  [the, doliver, romance, and, other, pieces, ta...  \n",
       "58           r m ballantyne  [fort, desolation, ballantyne, chapter, one, s...  \n",
       "68      george alfred henty  [orange, and, green, tale, the, boyne, and, li...  \n",
       "70           r m ballantyne  [red, rooney, ballantyne, tale, eskimo, innuit...  \n",
       "84           r m ballantyne  [charlie, the, rescue, ballantyne, chapter, on...  \n",
       "91      george alfred henty  [the, golden, canyon, henty, new, york, hurst,...  \n",
       "94    william wymark jacobs  [sailors, knots, jacobs, the, head, the, famil...  \n",
       "95     william dean howells  [foregone, conclusion, howells, edition, foreg...  \n",
       "100     george alfred henty  [illustration, waiting, for, help, chapter, ad...  \n",
       "103   william wymark jacobs  [dialstone, lane, jacobs, contents, illustrati...  \n",
       "127    william dean howells  [literature, and, life, short, stories, and, e...  \n",
       "136    william dean howells  [literature, and, life, the, man, letters, man...  \n",
       "140     nathaniel hawthorne  [mosses, from, old, manse, nathaniel, hawthorn...  \n",
       "160   william wymark jacobs  [captains, all, jacobs, over, the, side, illus...  \n",
       "170     nathaniel hawthorne  [true, stories, from, history, and, biography,...  \n",
       "177     george alfred henty  [girl, the, commune, henty, author, freedom, c...  \n",
       "179     george alfred henty  [dorothy, double, henty, author, rujub, the, j...  \n",
       "186    william dean howells  [april, hopes, william, dean, howells, from, h...  \n",
       "190          r m ballantyne  [doggie, and, ballantyne, chapter, one, explai...  \n",
       "197   william wymark jacobs  [the, lady, the, barge, and, other, stories, j...  \n",
       "207          r m ballantyne  [the, battery, and, the, boiler, ballantyne, c...  \n",
       "...                     ...                                                ...  \n",
       "2873    george alfred henty  [captain, bayley, heir, tale, the, gold, field...  \n",
       "2875   william dean howells  [literary, friends, and, acquaintances, cambri...  \n",
       "2879  william wymark jacobs  [ship, company, jacobs, the, bequest, robert, ...  \n",
       "2882    nathaniel hawthorne  [the, snow, image, and, other, twice, told, ta...  \n",
       "2885  william wymark jacobs  [captains, all, jacobs, the, temptation, samue...  \n",
       "2889         r m ballantyne  [the, wild, man, the, west, ballantyne, the, a...  \n",
       "2892    nathaniel hawthorne  [doctor, grimshawe, secret, romance, nathaniel...  \n",
       "2900  william wymark jacobs  [deep, waters, jacobs, contents, bedridden, th...  \n",
       "2901         r m ballantyne  [digging, for, gold, ballantyne, chapter, one,...  \n",
       "2905  william wymark jacobs  [ship, company, jacobs, the, guardian, angel, ...  \n",
       "2913  william wymark jacobs  [sailors, knots, jacobs, peter, pence, sailorm...  \n",
       "2919    george alfred henty  [through, three, campaigns, story, chitral, ti...  \n",
       "2922   william dean howells  [their, wedding, journey, william, dean, howel...  \n",
       "2929   william dean howells  [literature, and, life, the, confessions, summ...  \n",
       "2931   william dean howells  [the, kentons, william, dean, howells, the, ke...  \n",
       "2932   william dean howells  [the, daughter, the, storage, william, dean, h...  \n",
       "2936         r m ballantyne  [philosopher, jack, ballantyne, chapter, one, ...  \n",
       "2939   william dean howells  [the, entire, march, family, trilogy, william,...  \n",
       "2945         r m ballantyne  [the, norsemen, the, west, ballantyne, chapter...  \n",
       "2950  william wymark jacobs  [sea, urchins, jacobs, contents, smoked, skipp...  \n",
       "2962  william wymark jacobs  [night, watches, jacobs, the, weaker, vessel, ...  \n",
       "2966  william wymark jacobs  [night, watches, jacobs, the, vigil, the, happ...  \n",
       "2971    george alfred henty  [held, fast, for, england, tale, the, siege, g...  \n",
       "2983    george alfred henty  [illustration, well, lad, who, are, you, abouk...  \n",
       "2986         r m ballantyne  [the, prairie, chief, ballantyne, chapter, one...  \n",
       "3012   william dean howells  [literature, and, life, some, anomalies, the, ...  \n",
       "3021    george alfred henty  [with, lee, virginia, story, the, american, ci...  \n",
       "3023  william wymark jacobs  [the, lady, the, barge, and, other, stories, j...  \n",
       "3024    george alfred henty  [the, irrawaddy, story, the, first, burmese, w...  \n",
       "3027         r m ballantyne  [the, young, trawler, ballantyne, chapter, one...  \n",
       "\n",
       "[444 rows x 4 columns]"
      ]
     },
     "execution_count": 58,
     "metadata": {},
     "output_type": "execute_result"
    }
   ],
   "source": [
    "df_sub_auth"
   ]
  },
  {
   "cell_type": "code",
   "execution_count": null,
   "metadata": {
    "collapsed": true
   },
   "outputs": [],
   "source": []
  },
  {
   "cell_type": "code",
   "execution_count": 59,
   "metadata": {
    "collapsed": true
   },
   "outputs": [],
   "source": [
    "def NewWords(book,win):\n",
    "    L=len(book)\n",
    "    if L>10**4:\n",
    "        L=10**4\n",
    "    NewWords=[len(set(book[0:i+win])) for i in xrange(0, L, win)]\n",
    "    \n",
    "    return NewWords"
   ]
  },
  {
   "cell_type": "code",
   "execution_count": 60,
   "metadata": {
    "collapsed": false
   },
   "outputs": [],
   "source": [
    "df_sub_auth.loc[:,'newWordsPerWindow']= df_sub_auth.loc[:,'text'].apply(lambda x:NewWords(x,500))"
   ]
  },
  {
   "cell_type": "code",
   "execution_count": 61,
   "metadata": {
    "collapsed": false
   },
   "outputs": [],
   "source": [
    "df.reset_index(inplace=True)"
   ]
  },
  {
   "cell_type": "code",
   "execution_count": 62,
   "metadata": {
    "collapsed": false
   },
   "outputs": [],
   "source": [
    "heaps=df_sub_auth[['newWordsPerWindow','author']]"
   ]
  },
  {
   "cell_type": "code",
   "execution_count": 63,
   "metadata": {
    "collapsed": true
   },
   "outputs": [],
   "source": [
    "import matplotlib.pyplot as plt\n",
    "%matplotlib inline"
   ]
  },
  {
   "cell_type": "code",
   "execution_count": 64,
   "metadata": {
    "collapsed": false,
    "scrolled": true
   },
   "outputs": [
    {
     "data": {
      "text/html": [
       "<div>\n",
       "<style>\n",
       "    .dataframe thead tr:only-child th {\n",
       "        text-align: right;\n",
       "    }\n",
       "\n",
       "    .dataframe thead th {\n",
       "        text-align: left;\n",
       "    }\n",
       "\n",
       "    .dataframe tbody tr th {\n",
       "        vertical-align: top;\n",
       "    }\n",
       "</style>\n",
       "<table border=\"1\" class=\"dataframe\">\n",
       "  <thead>\n",
       "    <tr style=\"text-align: right;\">\n",
       "      <th></th>\n",
       "      <th>newWordsPerWindow</th>\n",
       "      <th>author</th>\n",
       "    </tr>\n",
       "  </thead>\n",
       "  <tbody>\n",
       "    <tr>\n",
       "      <th>1915</th>\n",
       "      <td>[270, 460, 645, 774, 891, 1006, 1097, 1209, 12...</td>\n",
       "      <td>george alfred henty</td>\n",
       "    </tr>\n",
       "    <tr>\n",
       "      <th>588</th>\n",
       "      <td>[298, 484, 641, 788, 923, 1021, 1130, 1259, 13...</td>\n",
       "      <td>george alfred henty</td>\n",
       "    </tr>\n",
       "    <tr>\n",
       "      <th>1284</th>\n",
       "      <td>[308, 471, 635, 784, 914, 1079, 1203, 1313, 14...</td>\n",
       "      <td>george alfred henty</td>\n",
       "    </tr>\n",
       "    <tr>\n",
       "      <th>517</th>\n",
       "      <td>[305, 474, 609, 751, 874, 948, 1038, 1136, 121...</td>\n",
       "      <td>george alfred henty</td>\n",
       "    </tr>\n",
       "    <tr>\n",
       "      <th>2551</th>\n",
       "      <td>[286, 452, 630, 743, 835, 932, 1017, 1127, 120...</td>\n",
       "      <td>george alfred henty</td>\n",
       "    </tr>\n",
       "    <tr>\n",
       "      <th>2590</th>\n",
       "      <td>[292, 509, 688, 840, 988, 1114, 1246, 1360, 14...</td>\n",
       "      <td>george alfred henty</td>\n",
       "    </tr>\n",
       "    <tr>\n",
       "      <th>506</th>\n",
       "      <td>[267, 486, 633, 781, 927, 1079, 1182, 1277, 13...</td>\n",
       "      <td>george alfred henty</td>\n",
       "    </tr>\n",
       "    <tr>\n",
       "      <th>2595</th>\n",
       "      <td>[292, 481, 606, 738, 867, 966, 1064, 1171, 126...</td>\n",
       "      <td>george alfred henty</td>\n",
       "    </tr>\n",
       "    <tr>\n",
       "      <th>1307</th>\n",
       "      <td>[304, 519, 660, 788, 897, 1002, 1103, 1204, 13...</td>\n",
       "      <td>george alfred henty</td>\n",
       "    </tr>\n",
       "    <tr>\n",
       "      <th>1326</th>\n",
       "      <td>[278, 468, 614, 740, 867, 988, 1085, 1204, 130...</td>\n",
       "      <td>george alfred henty</td>\n",
       "    </tr>\n",
       "    <tr>\n",
       "      <th>2685</th>\n",
       "      <td>[275, 403, 578, 745, 881, 993, 1088, 1179, 127...</td>\n",
       "      <td>george alfred henty</td>\n",
       "    </tr>\n",
       "    <tr>\n",
       "      <th>2160</th>\n",
       "      <td>[298, 523, 681, 840, 965, 1093, 1208, 1327, 14...</td>\n",
       "      <td>george alfred henty</td>\n",
       "    </tr>\n",
       "    <tr>\n",
       "      <th>2693</th>\n",
       "      <td>[278, 475, 631, 759, 888, 997, 1102, 1219, 128...</td>\n",
       "      <td>george alfred henty</td>\n",
       "    </tr>\n",
       "    <tr>\n",
       "      <th>425</th>\n",
       "      <td>[285, 469, 625, 756, 869, 951, 1036, 1129, 123...</td>\n",
       "      <td>george alfred henty</td>\n",
       "    </tr>\n",
       "    <tr>\n",
       "      <th>1330</th>\n",
       "      <td>[288, 460, 581, 710, 813, 923, 1067, 1165, 125...</td>\n",
       "      <td>george alfred henty</td>\n",
       "    </tr>\n",
       "    <tr>\n",
       "      <th>1340</th>\n",
       "      <td>[308, 534, 684, 830, 947, 1051, 1188, 1288, 13...</td>\n",
       "      <td>george alfred henty</td>\n",
       "    </tr>\n",
       "    <tr>\n",
       "      <th>2089</th>\n",
       "      <td>[304, 521, 669, 799, 943, 1058, 1158, 1260, 13...</td>\n",
       "      <td>george alfred henty</td>\n",
       "    </tr>\n",
       "    <tr>\n",
       "      <th>406</th>\n",
       "      <td>[313, 530, 702, 841, 948, 1053, 1170, 1266, 13...</td>\n",
       "      <td>george alfred henty</td>\n",
       "    </tr>\n",
       "    <tr>\n",
       "      <th>2066</th>\n",
       "      <td>[313, 534, 702, 820, 944, 1099, 1198, 1280, 13...</td>\n",
       "      <td>george alfred henty</td>\n",
       "    </tr>\n",
       "    <tr>\n",
       "      <th>2795</th>\n",
       "      <td>[301, 491, 643, 776, 889, 1007, 1130, 1239, 13...</td>\n",
       "      <td>george alfred henty</td>\n",
       "    </tr>\n",
       "    <tr>\n",
       "      <th>3024</th>\n",
       "      <td>[301, 512, 677, 803, 942, 1060, 1181, 1291, 13...</td>\n",
       "      <td>george alfred henty</td>\n",
       "    </tr>\n",
       "    <tr>\n",
       "      <th>2809</th>\n",
       "      <td>[303, 482, 653, 828, 972, 1095, 1210, 1362, 14...</td>\n",
       "      <td>george alfred henty</td>\n",
       "    </tr>\n",
       "    <tr>\n",
       "      <th>2824</th>\n",
       "      <td>[278, 502, 671, 807, 935, 1035, 1133, 1209, 13...</td>\n",
       "      <td>george alfred henty</td>\n",
       "    </tr>\n",
       "    <tr>\n",
       "      <th>2697</th>\n",
       "      <td>[304, 522, 701, 816, 929, 1017, 1118, 1192, 12...</td>\n",
       "      <td>george alfred henty</td>\n",
       "    </tr>\n",
       "    <tr>\n",
       "      <th>2168</th>\n",
       "      <td>[264, 461, 664, 848, 983, 1133, 1265, 1361, 14...</td>\n",
       "      <td>george alfred henty</td>\n",
       "    </tr>\n",
       "    <tr>\n",
       "      <th>1241</th>\n",
       "      <td>[274, 511, 673, 792, 914, 1030, 1163, 1261, 13...</td>\n",
       "      <td>george alfred henty</td>\n",
       "    </tr>\n",
       "    <tr>\n",
       "      <th>2186</th>\n",
       "      <td>[316, 510, 665, 806, 931, 1058, 1161, 1260, 13...</td>\n",
       "      <td>george alfred henty</td>\n",
       "    </tr>\n",
       "    <tr>\n",
       "      <th>870</th>\n",
       "      <td>[304, 485, 624, 763, 923, 1065, 1167, 1264, 13...</td>\n",
       "      <td>george alfred henty</td>\n",
       "    </tr>\n",
       "    <tr>\n",
       "      <th>2412</th>\n",
       "      <td>[278, 465, 609, 744, 873, 985, 1098, 1212, 131...</td>\n",
       "      <td>george alfred henty</td>\n",
       "    </tr>\n",
       "    <tr>\n",
       "      <th>2390</th>\n",
       "      <td>[292, 494, 694, 811, 955, 1072, 1194, 1332, 14...</td>\n",
       "      <td>george alfred henty</td>\n",
       "    </tr>\n",
       "    <tr>\n",
       "      <th>...</th>\n",
       "      <td>...</td>\n",
       "      <td>...</td>\n",
       "    </tr>\n",
       "    <tr>\n",
       "      <th>2245</th>\n",
       "      <td>[275, 486, 625, 742, 853, 917]</td>\n",
       "      <td>william wymark jacobs</td>\n",
       "    </tr>\n",
       "    <tr>\n",
       "      <th>1219</th>\n",
       "      <td>[263, 423, 523, 613, 694, 771, 777]</td>\n",
       "      <td>william wymark jacobs</td>\n",
       "    </tr>\n",
       "    <tr>\n",
       "      <th>2334</th>\n",
       "      <td>[273, 412, 526, 613, 693, 700]</td>\n",
       "      <td>william wymark jacobs</td>\n",
       "    </tr>\n",
       "    <tr>\n",
       "      <th>1502</th>\n",
       "      <td>[265, 410, 520, 634, 716, 785, 814]</td>\n",
       "      <td>william wymark jacobs</td>\n",
       "    </tr>\n",
       "    <tr>\n",
       "      <th>833</th>\n",
       "      <td>[285, 459, 638, 797, 952, 1092, 1132]</td>\n",
       "      <td>william wymark jacobs</td>\n",
       "    </tr>\n",
       "    <tr>\n",
       "      <th>775</th>\n",
       "      <td>[265, 433, 598, 729, 853, 922]</td>\n",
       "      <td>william wymark jacobs</td>\n",
       "    </tr>\n",
       "    <tr>\n",
       "      <th>500</th>\n",
       "      <td>[274, 430, 548, 644, 727, 728]</td>\n",
       "      <td>william wymark jacobs</td>\n",
       "    </tr>\n",
       "    <tr>\n",
       "      <th>1496</th>\n",
       "      <td>[292, 519, 659, 810, 948, 1084, 1164]</td>\n",
       "      <td>william wymark jacobs</td>\n",
       "    </tr>\n",
       "    <tr>\n",
       "      <th>2573</th>\n",
       "      <td>[279, 410, 526, 619, 699, 762, 779]</td>\n",
       "      <td>william wymark jacobs</td>\n",
       "    </tr>\n",
       "    <tr>\n",
       "      <th>2564</th>\n",
       "      <td>[302, 476, 609, 705, 803, 880, 1007, 1101, 116...</td>\n",
       "      <td>william wymark jacobs</td>\n",
       "    </tr>\n",
       "    <tr>\n",
       "      <th>515</th>\n",
       "      <td>[289, 476, 651, 773, 903, 988]</td>\n",
       "      <td>william wymark jacobs</td>\n",
       "    </tr>\n",
       "    <tr>\n",
       "      <th>534</th>\n",
       "      <td>[295, 459, 627, 775, 890, 1002, 1048]</td>\n",
       "      <td>william wymark jacobs</td>\n",
       "    </tr>\n",
       "    <tr>\n",
       "      <th>598</th>\n",
       "      <td>[286, 453, 571, 677, 772, 830]</td>\n",
       "      <td>william wymark jacobs</td>\n",
       "    </tr>\n",
       "    <tr>\n",
       "      <th>1485</th>\n",
       "      <td>[289, 498, 668, 799, 959, 1109, 1175]</td>\n",
       "      <td>william wymark jacobs</td>\n",
       "    </tr>\n",
       "    <tr>\n",
       "      <th>2044</th>\n",
       "      <td>[280, 441, 569, 682, 769, 774]</td>\n",
       "      <td>william wymark jacobs</td>\n",
       "    </tr>\n",
       "    <tr>\n",
       "      <th>2491</th>\n",
       "      <td>[274, 454, 564, 649, 739, 778]</td>\n",
       "      <td>william wymark jacobs</td>\n",
       "    </tr>\n",
       "    <tr>\n",
       "      <th>805</th>\n",
       "      <td>[265, 447, 623, 768, 887, 1005, 1046]</td>\n",
       "      <td>william wymark jacobs</td>\n",
       "    </tr>\n",
       "    <tr>\n",
       "      <th>653</th>\n",
       "      <td>[253, 442, 619, 749, 900, 1049, 1182, 1300, 14...</td>\n",
       "      <td>william wymark jacobs</td>\n",
       "    </tr>\n",
       "    <tr>\n",
       "      <th>657</th>\n",
       "      <td>[273, 426, 533, 627, 696, 780, 781]</td>\n",
       "      <td>william wymark jacobs</td>\n",
       "    </tr>\n",
       "    <tr>\n",
       "      <th>2479</th>\n",
       "      <td>[240, 364, 495, 586, 667, 735]</td>\n",
       "      <td>william wymark jacobs</td>\n",
       "    </tr>\n",
       "    <tr>\n",
       "      <th>666</th>\n",
       "      <td>[260, 400, 525, 630, 726, 818, 873]</td>\n",
       "      <td>william wymark jacobs</td>\n",
       "    </tr>\n",
       "    <tr>\n",
       "      <th>2052</th>\n",
       "      <td>[255, 395, 521, 621, 690, 769, 776]</td>\n",
       "      <td>william wymark jacobs</td>\n",
       "    </tr>\n",
       "    <tr>\n",
       "      <th>1481</th>\n",
       "      <td>[268, 440, 597, 748, 896, 1020, 1106, 1110]</td>\n",
       "      <td>william wymark jacobs</td>\n",
       "    </tr>\n",
       "    <tr>\n",
       "      <th>1447</th>\n",
       "      <td>[278, 459, 556, 661, 750, 836, 923, 998, 1054,...</td>\n",
       "      <td>william wymark jacobs</td>\n",
       "    </tr>\n",
       "    <tr>\n",
       "      <th>695</th>\n",
       "      <td>[295, 489, 615, 749, 852, 887]</td>\n",
       "      <td>william wymark jacobs</td>\n",
       "    </tr>\n",
       "    <tr>\n",
       "      <th>738</th>\n",
       "      <td>[252, 460, 625, 799, 934, 1033, 1034]</td>\n",
       "      <td>william wymark jacobs</td>\n",
       "    </tr>\n",
       "    <tr>\n",
       "      <th>739</th>\n",
       "      <td>[272, 481, 656, 801, 936, 1046]</td>\n",
       "      <td>william wymark jacobs</td>\n",
       "    </tr>\n",
       "    <tr>\n",
       "      <th>2447</th>\n",
       "      <td>[242, 390, 502, 601, 701, 767]</td>\n",
       "      <td>william wymark jacobs</td>\n",
       "    </tr>\n",
       "    <tr>\n",
       "      <th>655</th>\n",
       "      <td>[327, 525, 662, 775, 863, 940, 999, 1108, 1214...</td>\n",
       "      <td>william wymark jacobs</td>\n",
       "    </tr>\n",
       "    <tr>\n",
       "      <th>1867</th>\n",
       "      <td>[282, 466, 626, 768, 879, 1005, 1118, 1226, 13...</td>\n",
       "      <td>william wymark jacobs</td>\n",
       "    </tr>\n",
       "  </tbody>\n",
       "</table>\n",
       "<p>444 rows × 2 columns</p>\n",
       "</div>"
      ],
      "text/plain": [
       "                                      newWordsPerWindow                 author\n",
       "1915  [270, 460, 645, 774, 891, 1006, 1097, 1209, 12...    george alfred henty\n",
       "588   [298, 484, 641, 788, 923, 1021, 1130, 1259, 13...    george alfred henty\n",
       "1284  [308, 471, 635, 784, 914, 1079, 1203, 1313, 14...    george alfred henty\n",
       "517   [305, 474, 609, 751, 874, 948, 1038, 1136, 121...    george alfred henty\n",
       "2551  [286, 452, 630, 743, 835, 932, 1017, 1127, 120...    george alfred henty\n",
       "2590  [292, 509, 688, 840, 988, 1114, 1246, 1360, 14...    george alfred henty\n",
       "506   [267, 486, 633, 781, 927, 1079, 1182, 1277, 13...    george alfred henty\n",
       "2595  [292, 481, 606, 738, 867, 966, 1064, 1171, 126...    george alfred henty\n",
       "1307  [304, 519, 660, 788, 897, 1002, 1103, 1204, 13...    george alfred henty\n",
       "1326  [278, 468, 614, 740, 867, 988, 1085, 1204, 130...    george alfred henty\n",
       "2685  [275, 403, 578, 745, 881, 993, 1088, 1179, 127...    george alfred henty\n",
       "2160  [298, 523, 681, 840, 965, 1093, 1208, 1327, 14...    george alfred henty\n",
       "2693  [278, 475, 631, 759, 888, 997, 1102, 1219, 128...    george alfred henty\n",
       "425   [285, 469, 625, 756, 869, 951, 1036, 1129, 123...    george alfred henty\n",
       "1330  [288, 460, 581, 710, 813, 923, 1067, 1165, 125...    george alfred henty\n",
       "1340  [308, 534, 684, 830, 947, 1051, 1188, 1288, 13...    george alfred henty\n",
       "2089  [304, 521, 669, 799, 943, 1058, 1158, 1260, 13...    george alfred henty\n",
       "406   [313, 530, 702, 841, 948, 1053, 1170, 1266, 13...    george alfred henty\n",
       "2066  [313, 534, 702, 820, 944, 1099, 1198, 1280, 13...    george alfred henty\n",
       "2795  [301, 491, 643, 776, 889, 1007, 1130, 1239, 13...    george alfred henty\n",
       "3024  [301, 512, 677, 803, 942, 1060, 1181, 1291, 13...    george alfred henty\n",
       "2809  [303, 482, 653, 828, 972, 1095, 1210, 1362, 14...    george alfred henty\n",
       "2824  [278, 502, 671, 807, 935, 1035, 1133, 1209, 13...    george alfred henty\n",
       "2697  [304, 522, 701, 816, 929, 1017, 1118, 1192, 12...    george alfred henty\n",
       "2168  [264, 461, 664, 848, 983, 1133, 1265, 1361, 14...    george alfred henty\n",
       "1241  [274, 511, 673, 792, 914, 1030, 1163, 1261, 13...    george alfred henty\n",
       "2186  [316, 510, 665, 806, 931, 1058, 1161, 1260, 13...    george alfred henty\n",
       "870   [304, 485, 624, 763, 923, 1065, 1167, 1264, 13...    george alfred henty\n",
       "2412  [278, 465, 609, 744, 873, 985, 1098, 1212, 131...    george alfred henty\n",
       "2390  [292, 494, 694, 811, 955, 1072, 1194, 1332, 14...    george alfred henty\n",
       "...                                                 ...                    ...\n",
       "2245                     [275, 486, 625, 742, 853, 917]  william wymark jacobs\n",
       "1219                [263, 423, 523, 613, 694, 771, 777]  william wymark jacobs\n",
       "2334                     [273, 412, 526, 613, 693, 700]  william wymark jacobs\n",
       "1502                [265, 410, 520, 634, 716, 785, 814]  william wymark jacobs\n",
       "833               [285, 459, 638, 797, 952, 1092, 1132]  william wymark jacobs\n",
       "775                      [265, 433, 598, 729, 853, 922]  william wymark jacobs\n",
       "500                      [274, 430, 548, 644, 727, 728]  william wymark jacobs\n",
       "1496              [292, 519, 659, 810, 948, 1084, 1164]  william wymark jacobs\n",
       "2573                [279, 410, 526, 619, 699, 762, 779]  william wymark jacobs\n",
       "2564  [302, 476, 609, 705, 803, 880, 1007, 1101, 116...  william wymark jacobs\n",
       "515                      [289, 476, 651, 773, 903, 988]  william wymark jacobs\n",
       "534               [295, 459, 627, 775, 890, 1002, 1048]  william wymark jacobs\n",
       "598                      [286, 453, 571, 677, 772, 830]  william wymark jacobs\n",
       "1485              [289, 498, 668, 799, 959, 1109, 1175]  william wymark jacobs\n",
       "2044                     [280, 441, 569, 682, 769, 774]  william wymark jacobs\n",
       "2491                     [274, 454, 564, 649, 739, 778]  william wymark jacobs\n",
       "805               [265, 447, 623, 768, 887, 1005, 1046]  william wymark jacobs\n",
       "653   [253, 442, 619, 749, 900, 1049, 1182, 1300, 14...  william wymark jacobs\n",
       "657                 [273, 426, 533, 627, 696, 780, 781]  william wymark jacobs\n",
       "2479                     [240, 364, 495, 586, 667, 735]  william wymark jacobs\n",
       "666                 [260, 400, 525, 630, 726, 818, 873]  william wymark jacobs\n",
       "2052                [255, 395, 521, 621, 690, 769, 776]  william wymark jacobs\n",
       "1481        [268, 440, 597, 748, 896, 1020, 1106, 1110]  william wymark jacobs\n",
       "1447  [278, 459, 556, 661, 750, 836, 923, 998, 1054,...  william wymark jacobs\n",
       "695                      [295, 489, 615, 749, 852, 887]  william wymark jacobs\n",
       "738               [252, 460, 625, 799, 934, 1033, 1034]  william wymark jacobs\n",
       "739                     [272, 481, 656, 801, 936, 1046]  william wymark jacobs\n",
       "2447                     [242, 390, 502, 601, 701, 767]  william wymark jacobs\n",
       "655   [327, 525, 662, 775, 863, 940, 999, 1108, 1214...  william wymark jacobs\n",
       "1867  [282, 466, 626, 768, 879, 1005, 1118, 1226, 13...  william wymark jacobs\n",
       "\n",
       "[444 rows x 2 columns]"
      ]
     },
     "execution_count": 64,
     "metadata": {},
     "output_type": "execute_result"
    }
   ],
   "source": [
    "heaps.sort_values(by='author')"
   ]
  },
  {
   "cell_type": "code",
   "execution_count": 65,
   "metadata": {
    "collapsed": true
   },
   "outputs": [],
   "source": [
    "win=heaps['newWordsPerWindow']\n",
    "aut=heaps['author']"
   ]
  },
  {
   "cell_type": "code",
   "execution_count": 66,
   "metadata": {
    "collapsed": true
   },
   "outputs": [],
   "source": [
    "aut=np.unique(aut)"
   ]
  },
  {
   "cell_type": "code",
   "execution_count": 67,
   "metadata": {
    "collapsed": true
   },
   "outputs": [],
   "source": [
    "from matplotlib.cm import jet\n",
    "\n",
    "def get_n_colors(n):\n",
    "    return[ jet(float(i)/n) for i in range(n) ]\n",
    "\n",
    "colors = get_n_colors(len(aut))"
   ]
  },
  {
   "cell_type": "code",
   "execution_count": 68,
   "metadata": {
    "collapsed": false
   },
   "outputs": [
    {
     "data": {
      "text/plain": [
       "[(0.0, 0.0, 0.5, 1.0),\n",
       " (0.0, 0.29999999999999999, 1.0, 1.0),\n",
       " (0.16129032258064513, 1.0, 0.80645161290322587, 1.0),\n",
       " (0.80645161290322565, 1.0, 0.16129032258064513, 1.0),\n",
       " (1.0, 0.40740740740740755, 0.0, 1.0)]"
      ]
     },
     "execution_count": 68,
     "metadata": {},
     "output_type": "execute_result"
    }
   ],
   "source": [
    "colors"
   ]
  },
  {
   "cell_type": "code",
   "execution_count": 69,
   "metadata": {
    "collapsed": false
   },
   "outputs": [],
   "source": [
    "color_map = dict(zip(aut, colors)) \n",
    "colorize = lambda x : color_map[x]\n",
    "c = list(map(colorize, aut))"
   ]
  },
  {
   "cell_type": "code",
   "execution_count": 72,
   "metadata": {
    "collapsed": false
   },
   "outputs": [],
   "source": [
    "id_color={a:b for a,b in zip(aut,colors)}"
   ]
  },
  {
   "cell_type": "code",
   "execution_count": 73,
   "metadata": {
    "collapsed": false
   },
   "outputs": [],
   "source": [
    "markers = [plt.Line2D([0,0],[0,0],color=color, marker='o', linestyle='') for color in id_color.values()]"
   ]
  },
  {
   "cell_type": "code",
   "execution_count": 120,
   "metadata": {
    "collapsed": false
   },
   "outputs": [
    {
     "data": {
      "image/png": "[encoded data removed]",
      "text/plain": [
       "<matplotlib.figure.Figure at 0x7f8a871dd310>"
      ]
     },
     "metadata": {},
     "output_type": "display_data"
    }
   ],
   "source": [
    "for plottino in heaps.values[:]:\n",
    "    #print plottino\n",
    "    #print len(plottino),len([(1+i)*500 in range(len(plottino))])\n",
    "    \n",
    "    plt.scatter([(1+i)*500 for i in range(len(plottino[0]))],plottino[0],marker='o',c=color_map[plottino[1]],linewidths=0)\n",
    "lgd = plt.legend(markers, id_color.keys(), numpoints=1,loc='center left', bbox_to_anchor=(1, 0.5))\n",
    "plt.plot([(1+i)*500 for i in range(len(mean))],mean,'r--',label='mean',linewidth=2)\n",
    "plt.xlabel('# words')\n",
    "plt.ylabel('# new words')\n",
    "plt.savefig('heaps_books.pdf', bbox_inches='tight', bbox_extra_artist=[lgd])\n",
    "plt.show()"
   ]
  },
  {
   "cell_type": "code",
   "execution_count": 83,
   "metadata": {
    "collapsed": false
   },
   "outputs": [],
   "source": [
    "tmp=[]\n",
    "\n",
    "for i in heaps['newWordsPerWindow'].values:\n",
    "    tmp.append(i)"
   ]
  },
  {
   "cell_type": "code",
   "execution_count": 110,
   "metadata": {
    "collapsed": false
   },
   "outputs": [],
   "source": [
    "trans=map(None,*tmp)\n",
    "transposed=[[x for x in L if x is not None] for L in trans]"
   ]
  },
  {
   "cell_type": "code",
   "execution_count": 111,
   "metadata": {
    "collapsed": false
   },
   "outputs": [],
   "source": [
    "mean_sd=[(np.nanmean(i),np.nanstd(i)) for i in transposed]"
   ]
  },
  {
   "cell_type": "code",
   "execution_count": 112,
   "metadata": {
    "collapsed": false
   },
   "outputs": [
    {
     "data": {
      "text/plain": [
       "[(292.99324324324323, 21.900418551356882),\n",
       " (499.90990990990991, 46.946260162393408),\n",
       " (671.16930022573365, 73.214800439172052),\n",
       " (820.38461538461536, 99.008782180339793),\n",
       " (953.35813953488378, 122.64686352052543),\n",
       " (1073.7855421686747, 150.49215576765991),\n",
       " (1200.6358839050131, 169.12248884206466),\n",
       " (1343.388379204893, 170.52092947170121),\n",
       " (1455.4545454545455, 183.35677993717962),\n",
       " (1555.8608414239482, 197.70808968149382),\n",
       " (1653.8957654723126, 211.97929239791691),\n",
       " (1748.1241610738255, 225.52163548972553),\n",
       " (1843.0680272108843, 237.82876020747025),\n",
       " (1938.750865051903, 247.06959403892591),\n",
       " (2024.6505190311418, 262.67014391942416),\n",
       " (2113.2350877192985, 273.71090684011466),\n",
       " (2191.711267605634, 283.67047389597144),\n",
       " (2269.1214285714286, 296.63908970467179),\n",
       " (2345.68345323741, 307.77703870422624),\n",
       " (2417.8985507246375, 319.02167683051675)]"
      ]
     },
     "execution_count": 112,
     "metadata": {},
     "output_type": "execute_result"
    }
   ],
   "source": [
    "mean_sd"
   ]
  },
  {
   "cell_type": "code",
   "execution_count": 115,
   "metadata": {
    "collapsed": false
   },
   "outputs": [],
   "source": [
    "mean,sd=zip(*mean_sd)"
   ]
  },
  {
   "cell_type": "code",
   "execution_count": 131,
   "metadata": {
    "collapsed": false
   },
   "outputs": [],
   "source": [
    "df_sub_auth.loc[:,'measure']= df_sub_auth.loc[:,'newWordsPerWindow'].apply(lambda x:func(x,mean,sd))"
   ]
  },
  {
   "cell_type": "code",
   "execution_count": 130,
   "metadata": {
    "collapsed": true
   },
   "outputs": [],
   "source": [
    "def func(x,mean,sd):\n",
    "    result=[(i-j)/k for i,j,k in zip(x,mean,sd)]\n",
    "    return result"
   ]
  },
  {
   "cell_type": "code",
   "execution_count": 133,
   "metadata": {
    "collapsed": false
   },
   "outputs": [
    {
     "data": {
      "text/html": [
       "<div>\n",
       "<style>\n",
       "    .dataframe thead tr:only-child th {\n",
       "        text-align: right;\n",
       "    }\n",
       "\n",
       "    .dataframe thead th {\n",
       "        text-align: left;\n",
       "    }\n",
       "\n",
       "    .dataframe tbody tr th {\n",
       "        vertical-align: top;\n",
       "    }\n",
       "</style>\n",
       "<table border=\"1\" class=\"dataframe\">\n",
       "  <thead>\n",
       "    <tr style=\"text-align: right;\">\n",
       "      <th></th>\n",
       "      <th>index</th>\n",
       "      <th>title</th>\n",
       "      <th>author</th>\n",
       "      <th>text</th>\n",
       "      <th>newWordsPerWindow</th>\n",
       "      <th>measure</th>\n",
       "    </tr>\n",
       "  </thead>\n",
       "  <tbody>\n",
       "    <tr>\n",
       "      <th>4</th>\n",
       "      <td>0</td>\n",
       "      <td>annie kilburn</td>\n",
       "      <td>william dean howells</td>\n",
       "      <td>[annie, kilburn, novel, howells, author, india...</td>\n",
       "      <td>[265, 453, 626, 828, 1001, 1143, 1243, 1371, 1...</td>\n",
       "      <td>[-1.27820585609, -0.999225705043, -0.616942202...</td>\n",
       "    </tr>\n",
       "    <tr>\n",
       "      <th>6</th>\n",
       "      <td>0</td>\n",
       "      <td>sketches and studies</td>\n",
       "      <td>nathaniel hawthorne</td>\n",
       "      <td>[sketches, and, studies, nathaniel, hawthorne,...</td>\n",
       "      <td>[318, 557, 732, 918, 1068, 1213, 1342, 1485, 1...</td>\n",
       "      <td>[1.14183921637, 1.21607322698, 0.830852497164,...</td>\n",
       "    </tr>\n",
       "    <tr>\n",
       "      <th>20</th>\n",
       "      <td>0</td>\n",
       "      <td>henry james, jr</td>\n",
       "      <td>william dean howells</td>\n",
       "      <td>[henry, james, william, dean, howells, the, ev...</td>\n",
       "      <td>[301, 517, 694, 871, 1011, 1106]</td>\n",
       "      <td>[0.365598344067, 0.364035176199, 0.31183175583...</td>\n",
       "    </tr>\n",
       "    <tr>\n",
       "      <th>26</th>\n",
       "      <td>0</td>\n",
       "      <td>an old woman's tale</td>\n",
       "      <td>nathaniel hawthorne</td>\n",
       "      <td>[the, doliver, romance, and, other, pieces, ta...</td>\n",
       "      <td>[331, 581, 781, 967, 1133, 1248]</td>\n",
       "      <td>[1.73543517753, 1.72729605744, 1.50011608466, ...</td>\n",
       "    </tr>\n",
       "    <tr>\n",
       "      <th>31</th>\n",
       "      <td>0</td>\n",
       "      <td>the skipper’s wooing, and the brown man’s servant</td>\n",
       "      <td>william wymark jacobs</td>\n",
       "      <td>[the, wooing, and, the, brown, servant, jacobs...</td>\n",
       "      <td>[285, 487, 659, 825, 950, 1061, 1150, 1265, 13...</td>\n",
       "      <td>[-0.364981300449, -0.274993361883, -0.16621366...</td>\n",
       "    </tr>\n",
       "  </tbody>\n",
       "</table>\n",
       "</div>"
      ],
      "text/plain": [
       "    index                                              title  \\\n",
       "4       0                                      annie kilburn   \n",
       "6       0                               sketches and studies   \n",
       "20      0                                    henry james, jr   \n",
       "26      0                                an old woman's tale   \n",
       "31      0  the skipper’s wooing, and the brown man’s servant   \n",
       "\n",
       "                   author                                               text  \\\n",
       "4    william dean howells  [annie, kilburn, novel, howells, author, india...   \n",
       "6     nathaniel hawthorne  [sketches, and, studies, nathaniel, hawthorne,...   \n",
       "20   william dean howells  [henry, james, william, dean, howells, the, ev...   \n",
       "26    nathaniel hawthorne  [the, doliver, romance, and, other, pieces, ta...   \n",
       "31  william wymark jacobs  [the, wooing, and, the, brown, servant, jacobs...   \n",
       "\n",
       "                                    newWordsPerWindow  \\\n",
       "4   [265, 453, 626, 828, 1001, 1143, 1243, 1371, 1...   \n",
       "6   [318, 557, 732, 918, 1068, 1213, 1342, 1485, 1...   \n",
       "20                   [301, 517, 694, 871, 1011, 1106]   \n",
       "26                   [331, 581, 781, 967, 1133, 1248]   \n",
       "31  [285, 487, 659, 825, 950, 1061, 1150, 1265, 13...   \n",
       "\n",
       "                                              measure  \n",
       "4   [-1.27820585609, -0.999225705043, -0.616942202...  \n",
       "6   [1.14183921637, 1.21607322698, 0.830852497164,...  \n",
       "20  [0.365598344067, 0.364035176199, 0.31183175583...  \n",
       "26  [1.73543517753, 1.72729605744, 1.50011608466, ...  \n",
       "31  [-0.364981300449, -0.274993361883, -0.16621366...  "
      ]
     },
     "execution_count": 133,
     "metadata": {},
     "output_type": "execute_result"
    }
   ],
   "source": [
    "df_sub_auth.head()"
   ]
  },
  {
   "cell_type": "code",
   "execution_count": 165,
   "metadata": {
    "collapsed": false
   },
   "outputs": [
    {
     "name": "stdout",
     "output_type": "stream",
     "text": [
      "george alfred henty\n",
      "nathaniel hawthorne\n",
      "r m ballantyne\n",
      "william dean howells\n",
      "william wymark jacobs\n"
     ]
    }
   ],
   "source": [
    "from itertools import chain\n",
    "dic_aut={}\n",
    "for i in aut:\n",
    "    print i\n",
    "    flat=list(chain.from_iterable(list(df_sub_auth[df_sub_auth['author']==i]['measure'])))\n",
    "    dic_aut[i]=flat\n"
   ]
  },
  {
   "cell_type": "code",
   "execution_count": 162,
   "metadata": {
    "collapsed": false
   },
   "outputs": [
    {
     "data": {
      "image/png": "[encoded data removed]",
      "text/plain": [
       "<matplotlib.figure.Figure at 0x7f8a87c9df90>"
      ]
     },
     "metadata": {},
     "output_type": "display_data"
    }
   ],
   "source": [
    "for blob in dic_aut.keys():\n",
    "    plt.hist(dic_aut[blob],label=blob,histtype='step',normed=True,color=color_map[blob])\n",
    "lgd=plt.legend(loc='center left', bbox_to_anchor=(1, 0.5))\n",
    "plt.savefig('autorz.pdf', bbox_inches='tight', bbox_extra_artist=[lgd])\n",
    "plt.xlabel('heaps_idx')\n",
    "plt.show()"
   ]
  },
  {
   "cell_type": "markdown",
   "metadata": {},
   "source": [
    "# Single author scaling\n"
   ]
  },
  {
   "cell_type": "code",
   "execution_count": 166,
   "metadata": {
    "collapsed": false
   },
   "outputs": [
    {
     "name": "stdout",
     "output_type": "stream",
     "text": [
      "george alfred henty\n",
      "nathaniel hawthorne\n",
      "r m ballantyne\n",
      "william dean howells\n",
      "william wymark jacobs\n"
     ]
    }
   ],
   "source": [
    "dic_scaling={}\n",
    "for i in aut:\n",
    "    print i\n",
    "    flat=list(df_sub_auth[df_sub_auth['author']==i]['newWordsPerWindow'])\n",
    "    dic_scaling[i]=flat\n"
   ]
  },
  {
   "cell_type": "code",
   "execution_count": 169,
   "metadata": {
    "collapsed": false
   },
   "outputs": [
    {
     "name": "stdout",
     "output_type": "stream",
     "text": [
      "r m ballantyne 88\n",
      "william wymark jacobs 97\n",
      "nathaniel hawthorne 86\n",
      "george alfred henty 89\n",
      "william dean howells 84\n"
     ]
    }
   ],
   "source": [
    "for au in dic_scaling.keys():\n",
    "    print au, len(dic_scaling[au])"
   ]
  },
  {
   "cell_type": "code",
   "execution_count": 178,
   "metadata": {
    "collapsed": true
   },
   "outputs": [],
   "source": [
    "def scaling(dic,aut):\n",
    "    tmp=dic[aut]\n",
    "    #print tmp\n",
    "    trans=map(None,*tmp)\n",
    "    transposed=[[x for x in L if x is not None] for L in trans]\n",
    "    #print transposed\n",
    "    mean_sd=[(np.nanmean(i),np.nanstd(i)) for i in transposed]\n",
    "    return mean_sd"
   ]
  },
  {
   "cell_type": "code",
   "execution_count": 195,
   "metadata": {
    "collapsed": false
   },
   "outputs": [
    {
     "data": {
      "image/png": "[encoded data removed]",
      "text/plain": [
       "<matplotlib.figure.Figure at 0x7f8a84d6d410>"
      ]
     },
     "metadata": {},
     "output_type": "display_data"
    }
   ],
   "source": [
    "m,s=zip(*scaling(dic_scaling,'nathaniel hawthorne'))\n",
    "plt.plot(m,s)\n",
    "plt.plot(xrange(10,10**4,10**3),xrange(10,10**4,10**3),'r')\n",
    "plt.plot(xrange(10,10**4,10**3),np.sqrt(xrange(10,10**4,10**3)),'g')\n",
    "\n",
    "plt.loglog()\n",
    "plt.show()"
   ]
  },
  {
   "cell_type": "code",
   "execution_count": null,
   "metadata": {
    "collapsed": true
   },
   "outputs": [],
   "source": []
  }
 ],
 "metadata": {
  "kernelspec": {
   "display_name": "Python 2",
   "language": "python",
   "name": "python2"
  },
  "language_info": {
   "codemirror_mode": {
    "name": "ipython",
    "version": 2
   },
   "file_extension": ".py",
   "mimetype": "text/x-python",
   "name": "python",
   "nbconvert_exporter": "python",
   "pygments_lexer": "ipython2",
   "version": "2.7.12"
  }
 },
 "nbformat": 4,
 "nbformat_minor": 0
}
